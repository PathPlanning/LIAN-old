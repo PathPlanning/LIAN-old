{
 "cells": [
  {
   "cell_type": "code",
   "execution_count": 1,
   "metadata": {
    "collapsed": false
   },
   "outputs": [],
   "source": [
    "from os import chdir, path, remove, listdir\n",
    "chdir('/home/dmitry/heuristic-search/tools')\n",
    "from process import parse_log\n",
    "chdir(\"../tests/tests_l_100/ALL_LIAN/\")"
   ]
  },
  {
   "cell_type": "code",
   "execution_count": 10,
   "metadata": {
    "collapsed": true
   },
   "outputs": [],
   "source": [
    "import re\n",
    "log_pattern = re.compile(r'.*_(?P<group_n>\\d+)_(?P<number>\\d+)_log\\.xml')"
   ]
  },
  {
   "cell_type": "code",
   "execution_count": 11,
   "metadata": {
    "collapsed": false
   },
   "outputs": [
    {
     "name": "stdout",
     "output_type": "stream",
     "text": []
    }
   ],
   "source": [
    "#Preprocess results\n",
    "for dir_path in listdir():\n",
    "    if (path.isdir(dir_path)):\n",
    "        f = open(path.join(dir_path, 'results.txt'), 'w')\n",
    "        for filename in listdir(path.join(dir_path, '1')):\n",
    "            m = log_pattern.match(filename)\n",
    "            if m:\n",
    "                try:\n",
    "                    data = parse_log(path.join(path.join(dir_path, '1'), filename))\n",
    "                    print(m.group('number'), data['summary'], file=f)\n",
    "                except AttributeError as e:\n",
    "                    file_with_error = path.join(path.curdir, path.join(path.join(dir_path, '1'), filename))\n",
    "                    print(\"Error {}\\n\\n on file {}\".format(e, file_with_error))\n",
    "        f.close()"
   ]
  },
  {
   "cell_type": "code",
   "execution_count": 12,
   "metadata": {
    "collapsed": true
   },
   "outputs": [],
   "source": [
    "from statistics import variance, stdev, mean, median_grouped, median"
   ]
  },
  {
   "cell_type": "code",
   "execution_count": 15,
   "metadata": {
    "collapsed": false
   },
   "outputs": [
    {
     "data": {
      "text/plain": [
       "{'average': {'lenth': 655.9738225806451,\n",
       "  'nodes': 469788.1451612903,\n",
       "  'steps': 15596.58064516129,\n",
       "  'time': 1.4573127232258065},\n",
       " 'median_50': {'lenth': 659.035,\n",
       "  'nodes': 27199.5,\n",
       "  'steps': 1546.5,\n",
       "  'time': -0.41435120000000003}}"
      ]
     },
     "execution_count": 15,
     "metadata": {},
     "output_type": "execute_result"
    }
   ],
   "source": [
    "#D-LIAN\n",
    "d_lian = {\n",
    "    'average': {\n",
    "        'time': 0.0,\n",
    "        'nodes': 0,\n",
    "        'steps': 0,\n",
    "        'lenth': 0.0\n",
    "    },\n",
    "    'median_50': {\n",
    "        'time': 0.0,\n",
    "        'nodes': 0,\n",
    "        'steps': 0,\n",
    "        'lenth': 0.0\n",
    "    }\n",
    "}\n",
    "f = open('LIAN_D_20-5_F2/results.txt')\n",
    "data = []\n",
    "for row in f:\n",
    "    data.append(eval(row[row.find(' '):]))\n",
    "d_lian['average']['time'] = mean(map(lambda entry: entry['time'], data))\n",
    "d_lian['average']['nodes'] = mean(map(lambda entry: entry['nodes'], data))\n",
    "d_lian['average']['steps'] = mean(map(lambda entry: entry['steps'], data))\n",
    "d_lian['average']['lenth'] = mean(map(lambda entry: entry['lenth'], data))\n",
    "\n",
    "d_lian['median_50']['time'] = median_grouped(map(lambda entry: entry['time'], data))\n",
    "d_lian['median_50']['nodes'] = median_grouped(map(lambda entry: entry['nodes'], data))\n",
    "d_lian['median_50']['steps'] = median_grouped(map(lambda entry: entry['steps'], data))\n",
    "d_lian['median_50']['lenth'] = median_grouped(map(lambda entry: entry['lenth'], data))"
   ]
  },
  {
   "cell_type": "code",
   "execution_count": 16,
   "metadata": {
    "collapsed": false
   },
   "outputs": [],
   "source": [
    "#D-LIAN\n",
    "lian_5 = {\n",
    "    'average': {\n",
    "        'time': 0.0,\n",
    "        'nodes': 0,\n",
    "        'steps': 0,\n",
    "        'lenth': 0.0\n",
    "    },\n",
    "    'median_50': {\n",
    "        'time': 0.0,\n",
    "        'nodes': 0,\n",
    "        'steps': 0,\n",
    "        'lenth': 0.0\n",
    "    }\n",
    "}\n",
    "f = open('LIAN_R5/results.txt')\n",
    "data = []\n",
    "for row in f:\n",
    "    data.append(eval(row[row.find(' '):]))\n",
    "lian_5['average']['time'] = mean(map(lambda entry: entry['time'], data))\n",
    "lian_5['average']['nodes'] = mean(map(lambda entry: entry['nodes'], data))\n",
    "lian_5['average']['steps'] = mean(map(lambda entry: entry['steps'], data))\n",
    "lian_5['average']['lenth'] = mean(map(lambda entry: entry['lenth'], data))\n",
    "\n",
    "lian_5['median_50']['time'] = median_grouped(map(lambda entry: entry['time'], data))\n",
    "lian_5['median_50']['nodes'] = median_grouped(map(lambda entry: entry['nodes'], data))\n",
    "lian_5['median_50']['steps'] = median_grouped(map(lambda entry: entry['steps'], data))\n",
    "lian_5['median_50']['lenth'] = median_grouped(map(lambda entry: entry['lenth'], data))"
   ]
  },
  {
   "cell_type": "code",
   "execution_count": 17,
   "metadata": {
    "collapsed": false
   },
   "outputs": [],
   "source": [
    "lian_10 = {\n",
    "    'average': {\n",
    "        'time': 0.0,\n",
    "        'nodes': 0,\n",
    "        'steps': 0,\n",
    "        'lenth': 0.0\n",
    "    },\n",
    "    'median_50': {\n",
    "        'time': 0.0,\n",
    "        'nodes': 0,\n",
    "        'steps': 0,\n",
    "        'lenth': 0.0\n",
    "    }\n",
    "}\n",
    "f = open('LIAN_R10/results.txt')\n",
    "data = []\n",
    "for row in f:\n",
    "    data.append(eval(row[row.find(' '):]))\n",
    "lian_10['average']['time'] = mean(map(lambda entry: entry['time'], data))\n",
    "lian_10['average']['nodes'] = mean(map(lambda entry: entry['nodes'], data))\n",
    "lian_10['average']['steps'] = mean(map(lambda entry: entry['steps'], data))\n",
    "lian_10['average']['lenth'] = mean(map(lambda entry: entry['lenth'], data))\n",
    "\n",
    "lian_10['median_50']['time'] = median_grouped(map(lambda entry: entry['time'], data))\n",
    "lian_10['median_50']['nodes'] = median_grouped(map(lambda entry: entry['nodes'], data))\n",
    "lian_10['median_50']['steps'] = median_grouped(map(lambda entry: entry['steps'], data))\n",
    "lian_10['median_50']['lenth'] = median_grouped(map(lambda entry: entry['lenth'], data))"
   ]
  },
  {
   "cell_type": "code",
   "execution_count": 18,
   "metadata": {
    "collapsed": false
   },
   "outputs": [],
   "source": [
    "lian_20 = {\n",
    "    'average': {\n",
    "        'time': 0.0,\n",
    "        'nodes': 0,\n",
    "        'steps': 0,\n",
    "        'lenth': 0.0\n",
    "    },\n",
    "    'median_50': {\n",
    "        'time': 0.0,\n",
    "        'nodes': 0,\n",
    "        'steps': 0,\n",
    "        'lenth': 0.0\n",
    "    }\n",
    "}\n",
    "f = open('LIAN_R20/results.txt')\n",
    "data = []\n",
    "for row in f:\n",
    "    data.append(eval(row[row.find(' '):]))\n",
    "lian_20['average']['time'] = mean(map(lambda entry: entry['time'], data))\n",
    "lian_20['average']['nodes'] = mean(map(lambda entry: entry['nodes'], data))\n",
    "lian_20['average']['steps'] = mean(map(lambda entry: entry['steps'], data))\n",
    "lian_20['average']['lenth'] = mean(map(lambda entry: entry['lenth'], data))\n",
    "\n",
    "lian_20['median_50']['time'] = median_grouped(map(lambda entry: entry['time'], data))\n",
    "lian_20['median_50']['nodes'] = median_grouped(map(lambda entry: entry['nodes'], data))\n",
    "lian_20['median_50']['steps'] = median_grouped(map(lambda entry: entry['steps'], data))\n",
    "lian_20['median_50']['lenth'] = median_grouped(map(lambda entry: entry['lenth'], data))"
   ]
  },
  {
   "cell_type": "code",
   "execution_count": 19,
   "metadata": {
    "collapsed": false
   },
   "outputs": [
    {
     "data": {
      "text/plain": [
       "{'average': {'lenth': 655.9738225806451,\n",
       "  'nodes': 469788.1451612903,\n",
       "  'steps': 15596.58064516129,\n",
       "  'time': 1.4573127232258065},\n",
       " 'median_50': {'lenth': 659.035,\n",
       "  'nodes': 27199.5,\n",
       "  'steps': 1546.5,\n",
       "  'time': -0.41435120000000003}}"
      ]
     },
     "execution_count": 19,
     "metadata": {},
     "output_type": "execute_result"
    }
   ],
   "source": [
    "d_lian"
   ]
  },
  {
   "cell_type": "code",
   "execution_count": 20,
   "metadata": {
    "collapsed": false
   },
   "outputs": [
    {
     "data": {
      "text/plain": [
       "{'average': {'lenth': 647.7660508474577,\n",
       "  'nodes': 239124.2033898305,\n",
       "  'steps': 44438.50847457627,\n",
       "  'time': 0.9893615228813559},\n",
       " 'median_50': {'lenth': 651.121,\n",
       "  'nodes': 32031.0,\n",
       "  'steps': 4715.0,\n",
       "  'time': 0.0693301}}"
      ]
     },
     "execution_count": 20,
     "metadata": {},
     "output_type": "execute_result"
    }
   ],
   "source": [
    "lian_5"
   ]
  },
  {
   "cell_type": "code",
   "execution_count": 21,
   "metadata": {
    "collapsed": false
   },
   "outputs": [
    {
     "data": {
      "text/plain": [
       "{'average': {'lenth': 647.1439076923077,\n",
       "  'nodes': 619010.676923077,\n",
       "  'steps': 40139.81538461539,\n",
       "  'time': 1.8589994463076922},\n",
       " 'median_50': {'lenth': 643.937,\n",
       "  'nodes': 24944.0,\n",
       "  'steps': 1700.0,\n",
       "  'time': 0.05086740000000001}}"
      ]
     },
     "execution_count": 21,
     "metadata": {},
     "output_type": "execute_result"
    }
   ],
   "source": [
    "lian_10"
   ]
  },
  {
   "cell_type": "code",
   "execution_count": 22,
   "metadata": {
    "collapsed": false
   },
   "outputs": [
    {
     "data": {
      "text/plain": [
       "{'average': {'lenth': 655.2617101449275,\n",
       "  'nodes': 507879.52173913043,\n",
       "  'steps': 15570.782608695652,\n",
       "  'time': 1.7131520639130435},\n",
       " 'median_50': {'lenth': 655.144,\n",
       "  'nodes': 19893.0,\n",
       "  'steps': 869.0,\n",
       "  'time': 0.08312779999999997}}"
      ]
     },
     "execution_count": 22,
     "metadata": {},
     "output_type": "execute_result"
    }
   ],
   "source": [
    "lian_20"
   ]
  }
 ],
 "metadata": {
  "kernelspec": {
   "display_name": "Python 3",
   "language": "python",
   "name": "python3"
  },
  "language_info": {
   "codemirror_mode": {
    "name": "ipython",
    "version": 3
   },
   "file_extension": ".py",
   "mimetype": "text/x-python",
   "name": "python",
   "nbconvert_exporter": "python",
   "pygments_lexer": "ipython3",
   "version": "3.5.2"
  }
 },
 "nbformat": 4,
 "nbformat_minor": 1
}
